{
 "cells": [
  {
   "cell_type": "code",
   "execution_count": 1,
   "metadata": {},
   "outputs": [
    {
     "data": {
      "text/plain": [
       "2*(13,11) - (14,4) - (14,11) + 2*(14,13)"
      ]
     },
     "execution_count": 1,
     "metadata": {},
     "output_type": "execute_result"
    }
   ],
   "source": [
    "# Compute a generator gamma_15 of H_1(X_1(15),Z)^+\n",
    "\n",
    "S = ModularSymbols(Gamma1(15), weight=2).cuspidal_subspace()\n",
    "gamma_15 = S.plus_submodule().integral_basis()[0]\n",
    "gamma_15"
   ]
  },
  {
   "cell_type": "code",
   "execution_count": 8,
   "metadata": {},
   "outputs": [
    {
     "name": "stdout",
     "output_type": "stream",
     "text": [
      "True\n",
      "True\n"
     ]
    }
   ],
   "source": [
    "# Check that gamma_15 is cuspidal, and invariant under complex conjugation\n",
    "\n",
    "print(gamma_15.is_cuspidal())\n",
    "print(S.star_involution()(gamma_15) == gamma_15)"
   ]
  },
  {
   "cell_type": "code",
   "execution_count": 3,
   "metadata": {},
   "outputs": [
    {
     "data": {
      "text/plain": [
       "[[2, [6, 5, 13, 11]],\n",
       " [-1, [-5, -39, 14, 109]],\n",
       " [-1, [-5, -4, 14, 11]],\n",
       " [2, [-1, -1, 14, 13]]]"
      ]
     },
     "execution_count": 3,
     "metadata": {},
     "output_type": "execute_result"
    }
   ],
   "source": [
    "# Compute representative matrices in the expression of gamma_15\n",
    "\n",
    "[[X[0], X[1].lift_to_sl2z()] for X in gamma_15.manin_symbol_rep()]"
   ]
  },
  {
   "cell_type": "code",
   "execution_count": 4,
   "metadata": {},
   "outputs": [
    {
     "name": "stdout",
     "output_type": "stream",
     "text": [
      "[2, [1, 9, 2, 19]]\n",
      "[-1, [0, -1, 1, 11]]\n",
      "[-1, [0, -1, 1, 4]]\n",
      "[2, [0, -1, 1, 2]]\n"
     ]
    }
   ],
   "source": [
    "# We can get simpler matrices by working with the group G = <Gamma_1(15), -I>\n",
    "\n",
    "G = GammaH(15, [-1])\n",
    "Cosets = GHlist(G)   # Cosets of G \\ SL_2(Z)\n",
    "for X in gamma_15.manin_symbol_rep():\n",
    "    uv = Cosets.normalize(X[1].tuple()[1], X[1].tuple()[2])\n",
    "    print([X[0], lift_to_sl2z(uv[0], uv[1], 15)])"
   ]
  },
  {
   "cell_type": "code",
   "execution_count": 5,
   "metadata": {},
   "outputs": [
    {
     "name": "stdout",
     "output_type": "stream",
     "text": [
      "(2, -1)\n",
      "(-1/8, 1/16)\n"
     ]
    }
   ],
   "source": [
    "# Compare gamma_15 and the image w of {0,oo} in H_1(X_1(15),Q)\n",
    "# This computation shows that gamma_15 = -16*w.\n",
    "\n",
    "map = S.integral_period_mapping()\n",
    "print(map(gamma_15))\n",
    "print(map(S.ambient()([0,oo])))"
   ]
  },
  {
   "cell_type": "code",
   "execution_count": null,
   "metadata": {},
   "outputs": [],
   "source": []
  }
 ],
 "metadata": {
  "kernelspec": {
   "display_name": "SageMath 9.4",
   "language": "sage",
   "name": "sagemath-9.4"
  },
  "language_info": {
   "codemirror_mode": {
    "name": "ipython",
    "version": 3
   },
   "file_extension": ".py",
   "mimetype": "text/x-python",
   "name": "python",
   "nbconvert_exporter": "python",
   "pygments_lexer": "ipython3",
   "version": "3.9.5"
  }
 },
 "nbformat": 4,
 "nbformat_minor": 4
}
